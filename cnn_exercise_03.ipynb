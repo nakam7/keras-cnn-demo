{
  "nbformat": 4,
  "nbformat_minor": 0,
  "metadata": {
    "colab": {
      "name": "cnn_exercise_03.ipynb",
      "version": "0.3.2",
      "provenance": [],
      "collapsed_sections": []
    },
    "kernelspec": {
      "name": "python3",
      "display_name": "Python 3"
    },
    "accelerator": "GPU"
  },
  "cells": [
    {
      "metadata": {
        "id": "8Lx0-D-yMkhL",
        "colab_type": "text"
      },
      "cell_type": "markdown",
      "source": [
        "# Kerasを用いた画像分類入門（３）"
      ]
    },
    {
      "metadata": {
        "id": "33A7rPAMTyy4",
        "colab_type": "text"
      },
      "cell_type": "markdown",
      "source": [
        "##  過学習の抑制"
      ]
    },
    {
      "metadata": {
        "id": "TMBFBPcrMkhO",
        "colab_type": "text"
      },
      "cell_type": "markdown",
      "source": [
        "## Google Colab用の設定"
      ]
    },
    {
      "metadata": {
        "id": "4fhUwifgMkhR",
        "colab_type": "text"
      },
      "cell_type": "markdown",
      "source": [
        "Google Colaboratory で実行する場合には下記のセルを実行してください。"
      ]
    },
    {
      "metadata": {
        "id": "-EoFxRtmMkhU",
        "colab_type": "code",
        "colab": {}
      },
      "cell_type": "code",
      "source": [
        "from google.colab import drive\n",
        "drive.mount('/content/gdrive')"
      ],
      "execution_count": 0,
      "outputs": []
    },
    {
      "metadata": {
        "id": "3UTLvK2uMkhb",
        "colab_type": "code",
        "colab": {}
      },
      "cell_type": "code",
      "source": [
        "!unzip /content/gdrive/My\\ Drive/GD_share01/noodles.zip -d /content"
      ],
      "execution_count": 0,
      "outputs": []
    },
    {
      "metadata": {
        "id": "tyJF4fK6Mkhg",
        "colab_type": "text"
      },
      "cell_type": "markdown",
      "source": [
        "## ライブラリのインポート"
      ]
    },
    {
      "metadata": {
        "id": "6W-ZG_SrMkhi",
        "colab_type": "code",
        "colab": {}
      },
      "cell_type": "code",
      "source": [
        "import tensorflow.keras as keras"
      ],
      "execution_count": 0,
      "outputs": []
    },
    {
      "metadata": {
        "id": "3PMIUnSRMkho",
        "colab_type": "text"
      },
      "cell_type": "markdown",
      "source": [
        "## 画像データの準備"
      ]
    },
    {
      "metadata": {
        "id": "QkMMA05DMkhu",
        "colab_type": "text"
      },
      "cell_type": "markdown",
      "source": [
        " 解凍した教師画像からデータを読み込むImageDataGeneratorを作成します。  \n",
        " 下記の訓練用のImageDataGeneratorの初期化パラメータを設定してください。"
      ]
    },
    {
      "metadata": {
        "id": "xNzsFKSzMkhy",
        "colab_type": "code",
        "colab": {}
      },
      "cell_type": "code",
      "source": [
        "train_dir = './noodles/train/'\n",
        "validation_dir = './noodles/validaiton/'\n",
        "test_dir = './noodles/test/'\n",
        "image_size = (128, 128)\n",
        "batch_size = 32\n",
        "steps_per_epoch = 300 // batch_size\n",
        "validation_steps = 100 // batch_size\n",
        "test_steps = 100 // batch_size\n",
        "\n",
        "augmented_data_generator = keras.preprocessing.image.ImageDataGenerator(rescale=1/255.0,\n",
        "                                                                       rotation_range=,\n",
        "                                                                       width_shift_range=,\n",
        "                                                                       height_shift_range=,\n",
        "                                                                       brightness_range=,\n",
        "                                                                       shear_range=,\n",
        "                                                                       zoom_range=,\n",
        "                                                                       horizontal_flip=,\n",
        "                                                                       vertical_flip=)\n",
        "\n",
        "rescaled_data_generator = keras.preprocessing.image.ImageDataGenerator(rescale=1/255.0)\n",
        "\n",
        "train_generator = augmented_data_generator.flow_from_directory(train_dir,\n",
        "                                                           target_size=image_size, \n",
        "                                                           batch_size=batch_size)\n",
        "validation_generator = rescaled_data_generator.flow_from_directory(validation_dir,\n",
        "                                                                target_size=image_size, \n",
        "                                                                batch_size=batch_size)\n",
        "test_generator = rescaled_data_generator.flow_from_directory(test_dir,\n",
        "                                                                target_size=image_size, \n",
        "                                                                batch_size=batch_size)"
      ],
      "execution_count": 0,
      "outputs": []
    },
    {
      "metadata": {
        "id": "JrnVSkAgUFZW",
        "colab_type": "text"
      },
      "cell_type": "markdown",
      "source": [
        "## ニューラルネットワークの過学習とは？"
      ]
    },
    {
      "metadata": {
        "id": "oKfq7VNUMkh2",
        "colab_type": "text"
      },
      "cell_type": "markdown",
      "source": [
        "###  モデルの構築"
      ]
    },
    {
      "metadata": {
        "id": "BLWy-aTTMkh3",
        "colab_type": "text"
      },
      "cell_type": "markdown",
      "source": [
        "Conv2DとMaxPooling2Dを用いた画像の２値分類のための畳み込みニューラルネットワークを構成します。"
      ]
    },
    {
      "metadata": {
        "id": "FQKBcqx9Mkh7",
        "colab_type": "code",
        "colab": {}
      },
      "cell_type": "code",
      "source": [
        "model = keras.models.Sequential()\n",
        "\n",
        "model.add(keras.layers.Conv2D(32, (3, 3), strides=(1, 1), activation='relu', input_shape=(128, 128, 3)))\n",
        "model.add(keras.layers.MaxPooling2D((2, 2)))\n",
        "model.add(keras.layers.Conv2D(64, (3, 3), strides=(1, 1), activation='relu'))\n",
        "model.add(keras.layers.MaxPooling2D((2, 2)))\n",
        "model.add(keras.layers.Conv2D(128, (3, 3), strides=(1, 1), activation='relu'))\n",
        "model.add(keras.layers.MaxPooling2D((2, 2)))\n",
        "model.add(keras.layers.Flatten())\n",
        "model.add(keras.layers.Dense(128, activation='relu'))\n",
        "model.add(keras.layers.Dense(2, activation='softmax'))\n"
      ],
      "execution_count": 0,
      "outputs": []
    },
    {
      "metadata": {
        "id": "o_e3o5t1MkiB",
        "colab_type": "text"
      },
      "cell_type": "markdown",
      "source": [
        "### モデル構造の表示"
      ]
    },
    {
      "metadata": {
        "scrolled": true,
        "id": "U1BB67g4MkiE",
        "colab_type": "code",
        "colab": {}
      },
      "cell_type": "code",
      "source": [
        "model.summary()"
      ],
      "execution_count": 0,
      "outputs": []
    },
    {
      "metadata": {
        "id": "VFPse_SxMkiH",
        "colab_type": "text"
      },
      "cell_type": "markdown",
      "source": [
        "### モデルのコンパイル"
      ]
    },
    {
      "metadata": {
        "id": "hwB2WqYkMkiJ",
        "colab_type": "text"
      },
      "cell_type": "markdown",
      "source": [
        "モデルをコンパイルします。"
      ]
    },
    {
      "metadata": {
        "id": "BixHmvHDMkiM",
        "colab_type": "code",
        "colab": {}
      },
      "cell_type": "code",
      "source": [
        "model.compile(loss='categorical_crossentropy', \n",
        "              optimizer='adam',\n",
        "              metrics=['acc'])"
      ],
      "execution_count": 0,
      "outputs": []
    },
    {
      "metadata": {
        "id": "-DQWQh12MkiW",
        "colab_type": "text"
      },
      "cell_type": "markdown",
      "source": [
        "### モデルの訓練"
      ]
    },
    {
      "metadata": {
        "id": "i78Q9x4yMkiY",
        "colab_type": "text"
      },
      "cell_type": "markdown",
      "source": [
        "ここでは30エポック、モデルの訓練を行います。"
      ]
    },
    {
      "metadata": {
        "id": "CY4SvCB0MkiZ",
        "colab_type": "code",
        "colab": {}
      },
      "cell_type": "code",
      "source": [
        "history = model.fit_generator(train_generator,\n",
        "                             epochs=50,\n",
        "                             steps_per_epoch=steps_per_epoch,\n",
        "                             validation_data=validation_generator,\n",
        "                             validation_steps=validation_steps)"
      ],
      "execution_count": 0,
      "outputs": []
    },
    {
      "metadata": {
        "id": "xNJA9kA0Mkid",
        "colab_type": "text"
      },
      "cell_type": "markdown",
      "source": [
        "### 学習経過のグラフ化"
      ]
    },
    {
      "metadata": {
        "id": "_dgMQB5cMkie",
        "colab_type": "text"
      },
      "cell_type": "markdown",
      "source": [
        "下記のプログラムで、エポックごとの損失と正解率をグラフ化できます。  \n",
        "グラフから何が読み取れるでしょうか？"
      ]
    },
    {
      "metadata": {
        "scrolled": false,
        "id": "FxsAUbyhMkif",
        "colab_type": "code",
        "colab": {}
      },
      "cell_type": "code",
      "source": [
        "import matplotlib.pyplot as plt\n",
        "%matplotlib inline\n",
        "\n",
        "acc = history.history['acc']\n",
        "val_acc = history.history['val_acc']\n",
        "loss = history.history['loss']\n",
        "val_loss = history.history['val_loss']\n",
        "\n",
        "epochs = range(len(acc))\n",
        "\n",
        "plt.plot(epochs, acc, label='Train Accuracy')\n",
        "plt.plot(epochs, val_acc, label='Validation Accuracy')\n",
        "plt.legend()\n",
        "plt.show()\n",
        "\n",
        "plt.plot(epochs, loss, label='Train Loss')\n",
        "plt.plot(epochs, val_loss, label='Validation Loss')\n",
        "plt.legend()\n",
        "plt.show()\n"
      ],
      "execution_count": 0,
      "outputs": []
    },
    {
      "metadata": {
        "id": "MjL8gPXEMkii",
        "colab_type": "text"
      },
      "cell_type": "markdown",
      "source": [
        "### モデルの評価"
      ]
    },
    {
      "metadata": {
        "id": "-UeYu0XvMkik",
        "colab_type": "code",
        "colab": {}
      },
      "cell_type": "code",
      "source": [
        "evaluation = model.evaluate_generator(test_generator, steps=test_steps)\n",
        "print(evaluation)"
      ],
      "execution_count": 0,
      "outputs": []
    },
    {
      "metadata": {
        "id": "S0PS2DEtVqZw",
        "colab_type": "text"
      },
      "cell_type": "markdown",
      "source": [
        "最も性能の良かったモデルを読み込みます。"
      ]
    },
    {
      "metadata": {
        "id": "G1HpYmCVMki3",
        "colab_type": "text"
      },
      "cell_type": "markdown",
      "source": [
        "## モデルによる予測"
      ]
    },
    {
      "metadata": {
        "id": "ewrlxxAZMki4",
        "colab_type": "text"
      },
      "cell_type": "markdown",
      "source": [
        "下記のプログラムで、学習したモデルを使ってテスト用データの分類（予測）を行うことができます。  \n",
        "予測結果がどのような形式なのかを確認してください。"
      ]
    },
    {
      "metadata": {
        "id": "Jn9HHXysMki5",
        "colab_type": "code",
        "colab": {}
      },
      "cell_type": "code",
      "source": [
        "predictions = model.predict_generator(test_generator, steps=test_steps)\n",
        "\n",
        "print(predictions)"
      ],
      "execution_count": 0,
      "outputs": []
    },
    {
      "metadata": {
        "id": "og6H4zCTMki8",
        "colab_type": "text"
      },
      "cell_type": "markdown",
      "source": [
        "## モデルの予測結果を見てみる"
      ]
    },
    {
      "metadata": {
        "id": "z8mw0aq7Mki-",
        "colab_type": "text"
      },
      "cell_type": "markdown",
      "source": [
        "次のプログラムを実行すると、テスト用データの１バッチ分についてモデルの予測値と正解を画像つきで確認できます。  \n",
        "どのような結果になったかを確認してください。"
      ]
    },
    {
      "metadata": {
        "id": "I3gm5I2LMki_",
        "colab_type": "code",
        "colab": {}
      },
      "cell_type": "code",
      "source": [
        "import numpy as np\n",
        "import matplotlib.pyplot as plt\n",
        "%matplotlib inline\n",
        "\n",
        "code_to_class = {0: 'ラーメン', 1: 'うどん'}\n",
        "\n",
        "x, y = next(test_generator)\n",
        "y_true = np.argmax(y, axis=1)\n",
        "y_prob = model.predict_on_batch(x)\n",
        "y_pred = np.argmax(y_prob, axis=1)\n",
        "\n",
        "for i in range(len(x)):\n",
        "    plt.imshow(x[i])\n",
        "    plt.show()\n",
        "    print('推定：', code_to_class[y_pred[i]])\n",
        "    print('正解：', code_to_class[y_true[i]])"
      ],
      "execution_count": 0,
      "outputs": []
    },
    {
      "metadata": {
        "id": "xtLMWNwVMkjC",
        "colab_type": "code",
        "colab": {}
      },
      "cell_type": "code",
      "source": [
        ""
      ],
      "execution_count": 0,
      "outputs": []
    }
  ]
}
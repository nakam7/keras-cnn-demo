{
 "cells": [
  {
   "cell_type": "markdown",
   "metadata": {},
   "source": [
    "# BING Image Search API Usage Example"
   ]
  },
  {
   "cell_type": "markdown",
   "metadata": {},
   "source": [
    "### パッケージのインポート"
   ]
  },
  {
   "cell_type": "code",
   "execution_count": null,
   "metadata": {},
   "outputs": [],
   "source": [
    "import requests\n",
    "import hashlib\n",
    "import os\n",
    "import json\n",
    "import csv"
   ]
  },
  {
   "cell_type": "markdown",
   "metadata": {},
   "source": [
    "### パラメータ設定"
   ]
  },
  {
   "cell_type": "code",
   "execution_count": null,
   "metadata": {},
   "outputs": [],
   "source": [
    "API_URL = 'https://api.cognitive.microsoft.com/bing/v7.0/images/search'\n",
    "COUNT = 30\n",
    "DIGEST_SIZE = 16\n",
    "\n",
    "API_KEY = '-----------place your api key -----------'\n",
    "KEYWORD = 'ラーメン'\n",
    "MARKET = 'ja_JP'\n",
    "SAVE_DIR = 'images/ramen'\n",
    "LIST_FILE_NAME = 'image_file_list.csv'\n",
    "NUM_OF_IMAGES = 100"
   ]
  },
  {
   "cell_type": "markdown",
   "metadata": {},
   "source": [
    "### 保存先ディレクトリ作成"
   ]
  },
  {
   "cell_type": "code",
   "execution_count": null,
   "metadata": {},
   "outputs": [],
   "source": [
    "save_path = SAVE_DIR\n",
    "\n",
    "try: \n",
    "    os.makedirs(save_path)\n",
    "except OSError:\n",
    "    if not os.path.isdir(save_path):\n",
    "        raise"
   ]
  },
  {
   "cell_type": "markdown",
   "metadata": {},
   "source": [
    "### URLのハッシュから重複しないファイル名を生成"
   ]
  },
  {
   "cell_type": "code",
   "execution_count": null,
   "metadata": {},
   "outputs": [],
   "source": [
    "m = hashlib.blake2b(digest_size=DIGEST_SIZE)\n",
    "\n",
    "def hex_file_name(file_name):\n",
    "    ext = file_name.split('.')[-1]\n",
    "    if ext:\n",
    "        m.update(bytearray(file_name, encoding='UTF-8'))\n",
    "        return m.hexdigest() + '.' + ext\n",
    "    else:\n",
    "        raise Exception('No File Extension!')"
   ]
  },
  {
   "cell_type": "markdown",
   "metadata": {},
   "source": [
    "### レスポンスのファイルリストからファイルをダウンロード"
   ]
  },
  {
   "cell_type": "code",
   "execution_count": null,
   "metadata": {},
   "outputs": [],
   "source": [
    "def download_batch(image_list):\n",
    "    file_list = []\n",
    "    num = 0\n",
    "    for entry in image_list:\n",
    "        url = entry['contentUrl']\n",
    "        file_name = url.split('/')[-1]\n",
    "        ext = file_name.split('.')[-1]\n",
    "        if ext in ['jpg', 'jpeg', 'png', 'bmp', 'gif']:\n",
    "            try:\n",
    "                res = requests.get(url)\n",
    "            except requests.exceptions.RequestException as e:\n",
    "                print(e)\n",
    "                continue\n",
    "\n",
    "            if res.status_code == requests.codes.ok:\n",
    "                hex_name = hex_file_name(url)\n",
    "                full_path = os.path.join(save_path, hex_name)\n",
    "\n",
    "                with open(full_path,'wb') as f:\n",
    "                    f.write(res.content)\n",
    "                print('saved image...{}'.format(url))\n",
    "                file_list.append([url, full_path])\n",
    "                num += 1\n",
    "            else:\n",
    "                print(\"HttpError:{0}  at {1}\".format(res.status_code, url))\n",
    "    return file_list"
   ]
  },
  {
   "cell_type": "markdown",
   "metadata": {},
   "source": [
    "### APIを使った検索とダウンロード"
   ]
  },
  {
   "cell_type": "code",
   "execution_count": null,
   "metadata": {
    "scrolled": false
   },
   "outputs": [],
   "source": [
    "headers = {'Ocp-Apim-Subscription-Key': API_KEY} \n",
    "params = {'q': KEYWORD, 'count': COUNT, 'offset': 0, 'mkt': MARKET}\n",
    "\n",
    "downloaded_list = []\n",
    "num_downloaded = 0\n",
    "offset = 0\n",
    "\n",
    "while num_downloaded < NUM_OF_IMAGES:\n",
    "    try:\n",
    "        response = requests.get(API_URL, headers=headers, params=params)\n",
    "    except requests.exceptions.RequestException as e:\n",
    "        print(e)\n",
    "        raise\n",
    "    \n",
    "    data = response.json()\n",
    "    if data.get('_type') == 'Images':\n",
    "        file_list = download_batch(data['value'])\n",
    "        downloaded_list += file_list\n",
    "        num_downloaded += len(file_list)\n",
    "    else:\n",
    "        print(data.get('message'))\n",
    "        break\n",
    "    offset += COUNT\n",
    "    params['offset'] = offset\n",
    "        \n",
    "with open(os.path.join(save_path, LIST_FILE_NAME), 'w') as f:\n",
    "    writer = csv.writer(f)\n",
    "    writer.writerows(downloaded_list)\n",
    "\n",
    "print('{} images were downloaded.'.format(num_downloaded))"
   ]
  },
  {
   "cell_type": "code",
   "execution_count": null,
   "metadata": {},
   "outputs": [],
   "source": []
  }
 ],
 "metadata": {
  "kernelspec": {
   "display_name": "Python 3",
   "language": "python",
   "name": "python3"
  },
  "language_info": {
   "codemirror_mode": {
    "name": "ipython",
    "version": 3
   },
   "file_extension": ".py",
   "mimetype": "text/x-python",
   "name": "python",
   "nbconvert_exporter": "python",
   "pygments_lexer": "ipython3",
   "version": "3.6.7"
  },
  "toc": {
   "base_numbering": 1,
   "nav_menu": {},
   "number_sections": true,
   "sideBar": true,
   "skip_h1_title": false,
   "title_cell": "Table of Contents",
   "title_sidebar": "Contents",
   "toc_cell": false,
   "toc_position": {},
   "toc_section_display": true,
   "toc_window_display": false
  },
  "varInspector": {
   "cols": {
    "lenName": 16,
    "lenType": 16,
    "lenVar": 40
   },
   "kernels_config": {
    "python": {
     "delete_cmd_postfix": "",
     "delete_cmd_prefix": "del ",
     "library": "var_list.py",
     "varRefreshCmd": "print(var_dic_list())"
    },
    "r": {
     "delete_cmd_postfix": ") ",
     "delete_cmd_prefix": "rm(",
     "library": "var_list.r",
     "varRefreshCmd": "cat(var_dic_list()) "
    }
   },
   "types_to_exclude": [
    "module",
    "function",
    "builtin_function_or_method",
    "instance",
    "_Feature"
   ],
   "window_display": false
  }
 },
 "nbformat": 4,
 "nbformat_minor": 2
}

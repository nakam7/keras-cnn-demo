{
 "cells": [
  {
   "cell_type": "markdown",
   "metadata": {},
   "source": [
    "# 画像ファイルを訓練用、検証用、テスト用の各ディレクトリにコピー"
   ]
  },
  {
   "cell_type": "code",
   "execution_count": 2,
   "metadata": {},
   "outputs": [],
   "source": [
    "import os\n",
    "import glob\n",
    "import shutil\n",
    "\n",
    "source_dir = './images/'        # コピー元のディレクトリ\n",
    "destination_dir = './data/'    # コピー先のディレクトリ\n",
    "dest_dict = {'train':300, 'validaiton':100, 'test':100}    # コピー先のサブディレクトリとコピーするファイル数の辞書\n",
    "image_extensions = ['jpg', 'jpeg', 'png', 'bmp', 'gif']     # コピーすべき画像ファイルの拡張子\n",
    "\n",
    "sub_dirs = glob.glob(os.path.join(source_dir, '*'))        # コピー元のサブディレクトリを取得（クラス名のサブディレクトリ）\n",
    "sub_dirs = [dir for dir in sub_dirs if os.path.isdir(dir)]    # ディレクトリではないエントリを除去\n",
    "\n",
    "for sub in sub_dirs:\n",
    "    # サブディレクトリ内の画像ファイルのリストを作成\n",
    "    file_list = [file for file in glob.glob(os.path.join(sub, '*')) if file.split('.')[-1] in image_extensions]\n",
    "    # リスト中のコピー範囲を示すポインタ（left_ptr, right_ptr)\n",
    "    right_ptr = 0 # 左端から始めるために初期化\n",
    "    for dest_sub, num in dest_dict.items():  # コピー先の辞書中のアイテムを1つずつ取り出す\n",
    "        left_ptr = right_ptr   # 次のコピー開始位置を指定\n",
    "        right_ptr += num      # コピー枚数からコピー終了位置を算出\n",
    "        \n",
    "        # コピー先のディレクトリパスを構成\n",
    "        to_dir = os.path.join(destination_dir, dest_sub, sub.split('/')[-1])\n",
    "        \n",
    "        try: \n",
    "            os.makedirs(to_dir)\n",
    "        except OSError:\n",
    "            if not os.path.isdir(to_dir):\n",
    "                raise\n",
    "        \n",
    "        # コピー範囲のファイルをコピー\n",
    "        for file in file_list[left_ptr:right_ptr]:\n",
    "            shutil.copy(file, to_dir)\n"
   ]
  },
  {
   "cell_type": "code",
   "execution_count": null,
   "metadata": {},
   "outputs": [],
   "source": []
  }
 ],
 "metadata": {
  "kernelspec": {
   "display_name": "Python 3",
   "language": "python",
   "name": "python3"
  },
  "language_info": {
   "codemirror_mode": {
    "name": "ipython",
    "version": 3
   },
   "file_extension": ".py",
   "mimetype": "text/x-python",
   "name": "python",
   "nbconvert_exporter": "python",
   "pygments_lexer": "ipython3",
   "version": "3.6.7"
  },
  "varInspector": {
   "cols": {
    "lenName": 16,
    "lenType": 16,
    "lenVar": 40
   },
   "kernels_config": {
    "python": {
     "delete_cmd_postfix": "",
     "delete_cmd_prefix": "del ",
     "library": "var_list.py",
     "varRefreshCmd": "print(var_dic_list())"
    },
    "r": {
     "delete_cmd_postfix": ") ",
     "delete_cmd_prefix": "rm(",
     "library": "var_list.r",
     "varRefreshCmd": "cat(var_dic_list()) "
    }
   },
   "types_to_exclude": [
    "module",
    "function",
    "builtin_function_or_method",
    "instance",
    "_Feature"
   ],
   "window_display": false
  }
 },
 "nbformat": 4,
 "nbformat_minor": 2
}

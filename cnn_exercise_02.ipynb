{
 "cells": [
  {
   "cell_type": "markdown",
   "metadata": {
    "colab_type": "text",
    "id": "8Lx0-D-yMkhL"
   },
   "source": [
    "# Kerasを用いた画像分類入門（２）"
   ]
  },
  {
   "cell_type": "markdown",
   "metadata": {
    "colab_type": "text",
    "id": "33A7rPAMTyy4"
   },
   "source": [
    "##  過学習の抑制"
   ]
  },
  {
   "cell_type": "markdown",
   "metadata": {
    "colab_type": "text",
    "id": "TMBFBPcrMkhO"
   },
   "source": [
    "## Google Colab用の設定"
   ]
  },
  {
   "cell_type": "markdown",
   "metadata": {
    "colab_type": "text",
    "id": "4fhUwifgMkhR"
   },
   "source": [
    "Google Colaboratory で実行する場合には下記のセルを実行してください。"
   ]
  },
  {
   "cell_type": "code",
   "execution_count": null,
   "metadata": {
    "colab": {
     "base_uri": "https://localhost:8080/",
     "height": 133
    },
    "colab_type": "code",
    "executionInfo": {
     "elapsed": 25918,
     "status": "ok",
     "timestamp": 1550642268356,
     "user": {
      "displayName": "Masatoshi Itagaki",
      "photoUrl": "https://lh3.googleusercontent.com/-SGDpXt5ReZs/AAAAAAAAAAI/AAAAAAAAAIE/63os4VeHmA8/s64/photo.jpg",
      "userId": "04462290006021813429"
     },
     "user_tz": -540
    },
    "id": "-EoFxRtmMkhU",
    "outputId": "66430136-3c63-40e6-8666-3ae0c5ec9b74"
   },
   "outputs": [],
   "source": [
    "from google.colab import drive\n",
    "drive.mount('/content/gdrive')"
   ]
  },
  {
   "cell_type": "code",
   "execution_count": null,
   "metadata": {
    "colab": {
     "base_uri": "https://localhost:8080/",
     "height": 19318
    },
    "colab_type": "code",
    "executionInfo": {
     "elapsed": 11178,
     "status": "ok",
     "timestamp": 1550642282051,
     "user": {
      "displayName": "Masatoshi Itagaki",
      "photoUrl": "https://lh3.googleusercontent.com/-SGDpXt5ReZs/AAAAAAAAAAI/AAAAAAAAAIE/63os4VeHmA8/s64/photo.jpg",
      "userId": "04462290006021813429"
     },
     "user_tz": -540
    },
    "id": "3UTLvK2uMkhb",
    "outputId": "a5f87800-2721-46eb-9bc8-15e40662bcd5"
   },
   "outputs": [],
   "source": [
    "!unzip /content/gdrive/My\\ Drive/GD_share01/noodles.zip -d /content"
   ]
  },
  {
   "cell_type": "markdown",
   "metadata": {
    "colab_type": "text",
    "id": "tyJF4fK6Mkhg"
   },
   "source": [
    "## ライブラリのインポート"
   ]
  },
  {
   "cell_type": "code",
   "execution_count": null,
   "metadata": {
    "colab": {},
    "colab_type": "code",
    "id": "6W-ZG_SrMkhi"
   },
   "outputs": [],
   "source": [
    "import tensorflow.keras as keras"
   ]
  },
  {
   "cell_type": "markdown",
   "metadata": {
    "colab_type": "text",
    "id": "3PMIUnSRMkho"
   },
   "source": [
    "## 画像データの準備"
   ]
  },
  {
   "cell_type": "markdown",
   "metadata": {
    "colab_type": "text",
    "id": "QkMMA05DMkhu"
   },
   "source": [
    " 解凍した教師画像からデータを読み込むImageDataGeneratorを作成します。"
   ]
  },
  {
   "cell_type": "code",
   "execution_count": null,
   "metadata": {
    "colab": {
     "base_uri": "https://localhost:8080/",
     "height": 75
    },
    "colab_type": "code",
    "executionInfo": {
     "elapsed": 941,
     "status": "ok",
     "timestamp": 1550642295112,
     "user": {
      "displayName": "Masatoshi Itagaki",
      "photoUrl": "https://lh3.googleusercontent.com/-SGDpXt5ReZs/AAAAAAAAAAI/AAAAAAAAAIE/63os4VeHmA8/s64/photo.jpg",
      "userId": "04462290006021813429"
     },
     "user_tz": -540
    },
    "id": "xNzsFKSzMkhy",
    "outputId": "93ffcbfb-105f-4495-8970-961fb7667498"
   },
   "outputs": [],
   "source": [
    "train_dir = '/content/noodles/train/'\n",
    "validation_dir = '/content/noodles/validation/'\n",
    "test_dir = '/content/noodles/test/'\n",
    "image_size = (128, 128)\n",
    "batch_size = 32\n",
    "steps_per_epoch = 300 // batch_size\n",
    "validation_steps = 100 // batch_size\n",
    "test_steps = 100 // batch_size\n",
    "\n",
    "image_data_generator = keras.preprocessing.image.ImageDataGenerator(rescale=1/255.0)\n",
    "\n",
    "train_generator = image_data_generator.flow_from_directory(train_dir,\n",
    "                                                           target_size=image_size, \n",
    "                                                           batch_size=batch_size)\n",
    "validation_generator = image_data_generator.flow_from_directory(validation_dir,\n",
    "                                                                target_size=image_size, \n",
    "                                                                batch_size=batch_size)\n",
    "test_generator = image_data_generator.flow_from_directory(test_dir,\n",
    "                                                                target_size=image_size, \n",
    "                                                                batch_size=batch_size)"
   ]
  },
  {
   "cell_type": "markdown",
   "metadata": {
    "colab_type": "text",
    "id": "JrnVSkAgUFZW"
   },
   "source": [
    "## ニューラルネットワークの過学習とは？"
   ]
  },
  {
   "cell_type": "markdown",
   "metadata": {
    "colab_type": "text",
    "id": "oKfq7VNUMkh2"
   },
   "source": [
    "###  モデルの構築"
   ]
  },
  {
   "cell_type": "markdown",
   "metadata": {
    "colab_type": "text",
    "id": "BLWy-aTTMkh3"
   },
   "source": [
    "Conv2DとMaxPooling2Dを用いた画像の２値分類のための畳み込みニューラルネットワークを構成します。"
   ]
  },
  {
   "cell_type": "code",
   "execution_count": null,
   "metadata": {
    "colab": {
     "base_uri": "https://localhost:8080/",
     "height": 95
    },
    "colab_type": "code",
    "executionInfo": {
     "elapsed": 706,
     "status": "ok",
     "timestamp": 1550642308532,
     "user": {
      "displayName": "Masatoshi Itagaki",
      "photoUrl": "https://lh3.googleusercontent.com/-SGDpXt5ReZs/AAAAAAAAAAI/AAAAAAAAAIE/63os4VeHmA8/s64/photo.jpg",
      "userId": "04462290006021813429"
     },
     "user_tz": -540
    },
    "id": "FQKBcqx9Mkh7",
    "outputId": "dc25468d-bd3e-4214-c958-f124e5d8743c"
   },
   "outputs": [],
   "source": [
    "model = keras.models.Sequential()\n",
    "\n",
    "model.add(keras.layers.Conv2D(32, (3, 3), strides=(1, 1), activation='relu', input_shape=(128, 128, 3)))\n",
    "model.add(keras.layers.MaxPooling2D((2, 2)))\n",
    "model.add(keras.layers.Conv2D(64, (3, 3), strides=(1, 1), activation='relu'))\n",
    "model.add(keras.layers.MaxPooling2D((2, 2)))\n",
    "model.add(keras.layers.Conv2D(128, (3, 3), strides=(1, 1), activation='relu'))\n",
    "model.add(keras.layers.MaxPooling2D((2, 2)))\n",
    "model.add(keras.layers.Flatten())\n",
    "model.add(keras.layers.Dense(128, activation='relu'))\n",
    "model.add(keras.layers.Dense(2, activation='softmax'))"
   ]
  },
  {
   "cell_type": "markdown",
   "metadata": {
    "colab_type": "text",
    "id": "o_e3o5t1MkiB"
   },
   "source": [
    "### モデル構造の表示"
   ]
  },
  {
   "cell_type": "code",
   "execution_count": null,
   "metadata": {
    "colab": {
     "base_uri": "https://localhost:8080/",
     "height": 495
    },
    "colab_type": "code",
    "executionInfo": {
     "elapsed": 598,
     "status": "ok",
     "timestamp": 1550642314614,
     "user": {
      "displayName": "Masatoshi Itagaki",
      "photoUrl": "https://lh3.googleusercontent.com/-SGDpXt5ReZs/AAAAAAAAAAI/AAAAAAAAAIE/63os4VeHmA8/s64/photo.jpg",
      "userId": "04462290006021813429"
     },
     "user_tz": -540
    },
    "id": "U1BB67g4MkiE",
    "outputId": "99485e98-06de-44d0-82c9-a01e3884fd4a",
    "scrolled": true
   },
   "outputs": [],
   "source": [
    "model.summary()"
   ]
  },
  {
   "cell_type": "markdown",
   "metadata": {
    "colab_type": "text",
    "id": "VFPse_SxMkiH"
   },
   "source": [
    "### モデルのコンパイル"
   ]
  },
  {
   "cell_type": "markdown",
   "metadata": {
    "colab_type": "text",
    "id": "hwB2WqYkMkiJ"
   },
   "source": [
    "モデルをコンパイルします。"
   ]
  },
  {
   "cell_type": "code",
   "execution_count": null,
   "metadata": {
    "colab": {},
    "colab_type": "code",
    "id": "BixHmvHDMkiM"
   },
   "outputs": [],
   "source": [
    "model.compile(loss='categorical_crossentropy', \n",
    "              optimizer='adam',\n",
    "              metrics=['acc'])"
   ]
  },
  {
   "cell_type": "markdown",
   "metadata": {
    "colab_type": "text",
    "id": "-DQWQh12MkiW"
   },
   "source": [
    "### モデルの訓練"
   ]
  },
  {
   "cell_type": "markdown",
   "metadata": {
    "colab_type": "text",
    "id": "i78Q9x4yMkiY"
   },
   "source": [
    "ここでは20エポック、モデルの訓練を行います。"
   ]
  },
  {
   "cell_type": "code",
   "execution_count": null,
   "metadata": {
    "colab": {
     "base_uri": "https://localhost:8080/",
     "height": 1278
    },
    "colab_type": "code",
    "executionInfo": {
     "elapsed": 637890,
     "status": "ok",
     "timestamp": 1550642984683,
     "user": {
      "displayName": "Masatoshi Itagaki",
      "photoUrl": "https://lh3.googleusercontent.com/-SGDpXt5ReZs/AAAAAAAAAAI/AAAAAAAAAIE/63os4VeHmA8/s64/photo.jpg",
      "userId": "04462290006021813429"
     },
     "user_tz": -540
    },
    "id": "CY4SvCB0MkiZ",
    "outputId": "1f6c9c94-f151-478b-b31e-0c41f7dfeacd"
   },
   "outputs": [],
   "source": [
    "history = model.fit_generator(train_generator,\n",
    "                              epochs=20,\n",
    "                              steps_per_epoch=steps_per_epoch,\n",
    "                              validation_data=validation_generator,\n",
    "                              validation_steps=validation_steps)"
   ]
  },
  {
   "cell_type": "markdown",
   "metadata": {
    "colab_type": "text",
    "id": "xNJA9kA0Mkid"
   },
   "source": [
    "### 学習経過のグラフ化"
   ]
  },
  {
   "cell_type": "markdown",
   "metadata": {
    "colab_type": "text",
    "id": "_dgMQB5cMkie"
   },
   "source": [
    "下記のプログラムで、エポックごとの損失と正解率をグラフ化できます。  \n",
    "グラフから何が読み取れるでしょうか？"
   ]
  },
  {
   "cell_type": "code",
   "execution_count": null,
   "metadata": {
    "colab": {
     "base_uri": "https://localhost:8080/",
     "height": 514
    },
    "colab_type": "code",
    "executionInfo": {
     "elapsed": 1491,
     "status": "ok",
     "timestamp": 1550642994219,
     "user": {
      "displayName": "Masatoshi Itagaki",
      "photoUrl": "https://lh3.googleusercontent.com/-SGDpXt5ReZs/AAAAAAAAAAI/AAAAAAAAAIE/63os4VeHmA8/s64/photo.jpg",
      "userId": "04462290006021813429"
     },
     "user_tz": -540
    },
    "id": "FxsAUbyhMkif",
    "outputId": "245f9e6e-813d-4f2f-cfca-e5c96d3cc8bb",
    "scrolled": false
   },
   "outputs": [],
   "source": [
    "import matplotlib.pyplot as plt\n",
    "%matplotlib inline\n",
    "\n",
    "acc = history.history['acc']\n",
    "val_acc = history.history['val_acc']\n",
    "loss = history.history['loss']\n",
    "val_loss = history.history['val_loss']\n",
    "\n",
    "epochs = range(len(acc))\n",
    "\n",
    "plt.plot(epochs, acc, label='Train Accuracy')\n",
    "plt.plot(epochs, val_acc, label='Validation Accuracy')\n",
    "plt.legend()\n",
    "plt.show()\n",
    "\n",
    "plt.plot(epochs, loss, label='Train Loss')\n",
    "plt.plot(epochs, val_loss, label='Validation Loss')\n",
    "plt.legend()\n",
    "plt.show()"
   ]
  },
  {
   "cell_type": "markdown",
   "metadata": {
    "colab_type": "text",
    "id": "MjL8gPXEMkii"
   },
   "source": [
    "### モデルの評価"
   ]
  },
  {
   "cell_type": "code",
   "execution_count": null,
   "metadata": {
    "colab": {
     "base_uri": "https://localhost:8080/",
     "height": 36
    },
    "colab_type": "code",
    "executionInfo": {
     "elapsed": 9731,
     "status": "ok",
     "timestamp": 1550643014989,
     "user": {
      "displayName": "Masatoshi Itagaki",
      "photoUrl": "https://lh3.googleusercontent.com/-SGDpXt5ReZs/AAAAAAAAAAI/AAAAAAAAAIE/63os4VeHmA8/s64/photo.jpg",
      "userId": "04462290006021813429"
     },
     "user_tz": -540
    },
    "id": "-UeYu0XvMkik",
    "outputId": "402e3466-4f5b-400e-d9ed-62e4ed20c8ea"
   },
   "outputs": [],
   "source": [
    "evaluation = model.evaluate_generator(test_generator, steps=test_steps)\n",
    "print(evaluation)"
   ]
  },
  {
   "cell_type": "markdown",
   "metadata": {
    "colab_type": "text",
    "id": "crbeJRPURR4p"
   },
   "source": [
    "## ドロップアウトの導入"
   ]
  },
  {
   "cell_type": "markdown",
   "metadata": {
    "colab_type": "text",
    "id": "3oWfrzIfUYbw"
   },
   "source": [
    "### モデルの修正"
   ]
  },
  {
   "cell_type": "markdown",
   "metadata": {
    "colab_type": "text",
    "id": "3ccwOnHdRj1h"
   },
   "source": [
    "最初のモデルにDropout層を挿入してみましょう。"
   ]
  },
  {
   "cell_type": "code",
   "execution_count": null,
   "metadata": {
    "colab": {
     "base_uri": "https://localhost:8080/",
     "height": 95
    },
    "colab_type": "code",
    "executionInfo": {
     "elapsed": 623,
     "status": "ok",
     "timestamp": 1550643056984,
     "user": {
      "displayName": "Masatoshi Itagaki",
      "photoUrl": "https://lh3.googleusercontent.com/-SGDpXt5ReZs/AAAAAAAAAAI/AAAAAAAAAIE/63os4VeHmA8/s64/photo.jpg",
      "userId": "04462290006021813429"
     },
     "user_tz": -540
    },
    "id": "w0MBhh0jRs9S",
    "outputId": "0e1a86b5-6a8b-4986-c00f-484bfd0dd811"
   },
   "outputs": [],
   "source": [
    "model = keras.models.Sequential()\n",
    "\n",
    "model.add(keras.layers.Conv2D(32, (3, 3), strides=(1, 1), activation='relu', input_shape=(128, 128, 3)))\n",
    "model.add(keras.layers.MaxPooling2D((2, 2)))\n",
    "model.add(keras.layers.Conv2D(64, (3, 3), strides=(1, 1), activation='relu'))\n",
    "model.add(keras.layers.MaxPooling2D((2, 2)))\n",
    "model.add(keras.layers.Conv2D(128, (3, 3), strides=(1, 1), activation='relu'))\n",
    "model.add(keras.layers.MaxPooling2D((2, 2)))\n",
    "model.add(keras.layers.Flatten())\n",
    "model.add(keras.layers.Dropout(0.5))\n",
    "model.add(keras.layers.Dense(128, activation='relu'))\n",
    "model.add(keras.layers.Dropout(0.5))\n",
    "model.add(keras.layers.Dense(2, activation='softmax'))"
   ]
  },
  {
   "cell_type": "markdown",
   "metadata": {
    "colab_type": "text",
    "id": "wJ3_ETEOSJPw"
   },
   "source": [
    "### モデル構造の表示"
   ]
  },
  {
   "cell_type": "code",
   "execution_count": null,
   "metadata": {
    "colab": {
     "base_uri": "https://localhost:8080/",
     "height": 571
    },
    "colab_type": "code",
    "executionInfo": {
     "elapsed": 720,
     "status": "ok",
     "timestamp": 1550643073506,
     "user": {
      "displayName": "Masatoshi Itagaki",
      "photoUrl": "https://lh3.googleusercontent.com/-SGDpXt5ReZs/AAAAAAAAAAI/AAAAAAAAAIE/63os4VeHmA8/s64/photo.jpg",
      "userId": "04462290006021813429"
     },
     "user_tz": -540
    },
    "id": "xfgE2MLpSJPz",
    "outputId": "3ac3c958-4835-49ea-e235-d049244d4d10",
    "scrolled": true
   },
   "outputs": [],
   "source": [
    "model.summary()"
   ]
  },
  {
   "cell_type": "markdown",
   "metadata": {
    "colab_type": "text",
    "id": "pKVB4-ePSJP2"
   },
   "source": [
    "### モデルのコンパイル"
   ]
  },
  {
   "cell_type": "markdown",
   "metadata": {
    "colab_type": "text",
    "id": "jhFt8faoSJP4"
   },
   "source": [
    "先ほどのモデルと同じ様にモデルをコンパイルします。"
   ]
  },
  {
   "cell_type": "code",
   "execution_count": null,
   "metadata": {
    "colab": {},
    "colab_type": "code",
    "id": "IQ011zNtSJP8"
   },
   "outputs": [],
   "source": [
    "model.compile(loss='categorical_crossentropy', \n",
    "              optimizer='adam',\n",
    "              metrics=['acc'])"
   ]
  },
  {
   "cell_type": "markdown",
   "metadata": {
    "colab_type": "text",
    "id": "UeoiwGnsSJQB"
   },
   "source": [
    "### モデルの訓練"
   ]
  },
  {
   "cell_type": "markdown",
   "metadata": {
    "colab_type": "text",
    "id": "Du5ou_KVSJQC"
   },
   "source": [
    "25エポック、モデルの訓練を行います。"
   ]
  },
  {
   "cell_type": "code",
   "execution_count": null,
   "metadata": {
    "colab": {
     "base_uri": "https://localhost:8080/",
     "height": 1487
    },
    "colab_type": "code",
    "executionInfo": {
     "elapsed": 786360,
     "status": "ok",
     "timestamp": 1550643870486,
     "user": {
      "displayName": "Masatoshi Itagaki",
      "photoUrl": "https://lh3.googleusercontent.com/-SGDpXt5ReZs/AAAAAAAAAAI/AAAAAAAAAIE/63os4VeHmA8/s64/photo.jpg",
      "userId": "04462290006021813429"
     },
     "user_tz": -540
    },
    "id": "StnawXTXSJQC",
    "outputId": "76ff6f0e-fb0f-4be0-e411-e9d8759a4c7c"
   },
   "outputs": [],
   "source": [
    "history = model.fit_generator(train_generator,\n",
    "                              epochs=25,\n",
    "                              steps_per_epoch=steps_per_epoch,\n",
    "                              validation_data=validation_generator,\n",
    "                              validation_steps=validation_steps)"
   ]
  },
  {
   "cell_type": "markdown",
   "metadata": {
    "colab_type": "text",
    "id": "2klwDWcdSJQG"
   },
   "source": [
    "### 学習経過のグラフ化"
   ]
  },
  {
   "cell_type": "markdown",
   "metadata": {
    "colab_type": "text",
    "id": "JkOqKCh5SJQG"
   },
   "source": [
    "エポックごとの損失と正解率をグラフ化します。\n",
    "先程のグラフとどの様に違うでしょうか？"
   ]
  },
  {
   "cell_type": "code",
   "execution_count": null,
   "metadata": {
    "colab": {
     "base_uri": "https://localhost:8080/",
     "height": 515
    },
    "colab_type": "code",
    "executionInfo": {
     "elapsed": 1051,
     "status": "ok",
     "timestamp": 1550643877092,
     "user": {
      "displayName": "Masatoshi Itagaki",
      "photoUrl": "https://lh3.googleusercontent.com/-SGDpXt5ReZs/AAAAAAAAAAI/AAAAAAAAAIE/63os4VeHmA8/s64/photo.jpg",
      "userId": "04462290006021813429"
     },
     "user_tz": -540
    },
    "id": "YxCHjxRaSJQI",
    "outputId": "db40700a-03f1-4107-94fd-63082a579878",
    "scrolled": false
   },
   "outputs": [],
   "source": [
    "import matplotlib.pyplot as plt\n",
    "%matplotlib inline\n",
    "\n",
    "acc = history.history['acc']\n",
    "val_acc = history.history['val_acc']\n",
    "loss = history.history['loss']\n",
    "val_loss = history.history['val_loss']\n",
    "\n",
    "epochs = range(len(acc))\n",
    "\n",
    "plt.plot(epochs, acc, label='Train Accuracy')\n",
    "plt.plot(epochs, val_acc, label='Validation Accuracy')\n",
    "plt.legend()\n",
    "plt.show()\n",
    "\n",
    "plt.plot(epochs, loss, label='Train Loss')\n",
    "plt.plot(epochs, val_loss, label='Validation Loss')\n",
    "plt.legend()\n",
    "plt.show()"
   ]
  },
  {
   "cell_type": "markdown",
   "metadata": {
    "colab_type": "text",
    "id": "9KCMZiz9qRv3"
   },
   "source": [
    "## バッチ正規化の導入"
   ]
  },
  {
   "cell_type": "markdown",
   "metadata": {
    "colab_type": "text",
    "id": "Iz8KxQmOqRv4"
   },
   "source": [
    "### モデルの修正"
   ]
  },
  {
   "cell_type": "markdown",
   "metadata": {
    "colab_type": "text",
    "id": "6NuyQk87qRv5"
   },
   "source": [
    "最初のモデルにBatchNormalization層を挿入してみましょう。"
   ]
  },
  {
   "cell_type": "code",
   "execution_count": null,
   "metadata": {
    "colab": {},
    "colab_type": "code",
    "id": "LafGT9xlqRv6"
   },
   "outputs": [],
   "source": [
    "model = keras.models.Sequential()\n",
    "\n",
    "model.add(keras.layers.Conv2D(32, (3, 3), strides=(1, 1), input_shape=(128, 128, 3)))\n",
    "model.add(keras.layers.MaxPooling2D((2, 2)))\n",
    "model.add(keras.layers.BatchNormalization())\n",
    "model.add(keras.layers.Activation('relu'))\n",
    "model.add(keras.layers.Conv2D(64, (3, 3), strides=(1, 1)))\n",
    "model.add(keras.layers.MaxPooling2D((2, 2)))\n",
    "model.add(keras.layers.BatchNormalization())\n",
    "model.add(keras.layers.Activation('relu'))\n",
    "model.add(keras.layers.Conv2D(128, (3, 3), strides=(1, 1)))\n",
    "model.add(keras.layers.MaxPooling2D((2, 2)))\n",
    "model.add(keras.layers.BatchNormalization())\n",
    "model.add(keras.layers.Activation('relu'))\n",
    "model.add(keras.layers.Flatten())\n",
    "model.add(keras.layers.Dense(128))\n",
    "model.add(keras.layers.BatchNormalization())\n",
    "model.add(keras.layers.Activation('relu'))\n",
    "model.add(keras.layers.Dense(2, activation='softmax'))"
   ]
  },
  {
   "cell_type": "markdown",
   "metadata": {
    "colab_type": "text",
    "id": "pe4zfkPyqRv-"
   },
   "source": [
    "### モデル構造の表示"
   ]
  },
  {
   "cell_type": "code",
   "execution_count": null,
   "metadata": {
    "colab": {
     "base_uri": "https://localhost:8080/",
     "height": 800
    },
    "colab_type": "code",
    "executionInfo": {
     "elapsed": 665,
     "status": "ok",
     "timestamp": 1550643894736,
     "user": {
      "displayName": "Masatoshi Itagaki",
      "photoUrl": "https://lh3.googleusercontent.com/-SGDpXt5ReZs/AAAAAAAAAAI/AAAAAAAAAIE/63os4VeHmA8/s64/photo.jpg",
      "userId": "04462290006021813429"
     },
     "user_tz": -540
    },
    "id": "9RUU1VoLqRwB",
    "outputId": "c36f146a-a8a4-4111-93a1-6fb5ebecc36a",
    "scrolled": true
   },
   "outputs": [],
   "source": [
    "model.summary()"
   ]
  },
  {
   "cell_type": "markdown",
   "metadata": {
    "colab_type": "text",
    "id": "E6tPz5ZmqRwG"
   },
   "source": [
    "### モデルのコンパイル"
   ]
  },
  {
   "cell_type": "markdown",
   "metadata": {
    "colab_type": "text",
    "id": "XKv4VwWHqRwJ"
   },
   "source": [
    "先ほどのモデルと同じ様にモデルをコンパイルします。"
   ]
  },
  {
   "cell_type": "code",
   "execution_count": null,
   "metadata": {
    "colab": {},
    "colab_type": "code",
    "id": "kkz6YBxTqRwL"
   },
   "outputs": [],
   "source": [
    "model.compile(loss='categorical_crossentropy', \n",
    "              optimizer='adam',\n",
    "              metrics=['acc'])"
   ]
  },
  {
   "cell_type": "markdown",
   "metadata": {
    "colab_type": "text",
    "id": "SfaCQYbWqRwQ"
   },
   "source": [
    "### モデルの訓練"
   ]
  },
  {
   "cell_type": "markdown",
   "metadata": {
    "colab_type": "text",
    "id": "0z2a2tF-qRwU"
   },
   "source": [
    "30エポック、モデルの訓練を行います。"
   ]
  },
  {
   "cell_type": "code",
   "execution_count": null,
   "metadata": {
    "colab": {
     "base_uri": "https://localhost:8080/",
     "height": 1774
    },
    "colab_type": "code",
    "executionInfo": {
     "elapsed": 948285,
     "status": "ok",
     "timestamp": 1550644857796,
     "user": {
      "displayName": "Masatoshi Itagaki",
      "photoUrl": "https://lh3.googleusercontent.com/-SGDpXt5ReZs/AAAAAAAAAAI/AAAAAAAAAIE/63os4VeHmA8/s64/photo.jpg",
      "userId": "04462290006021813429"
     },
     "user_tz": -540
    },
    "id": "JPKMhYIaqRwW",
    "outputId": "6f9c608a-6e77-41ad-d1b6-619a6a73e7b8"
   },
   "outputs": [],
   "source": [
    "history = model.fit_generator(train_generator,\n",
    "                              epochs=30,\n",
    "                              steps_per_epoch=steps_per_epoch,\n",
    "                              validation_data=validation_generator,\n",
    "                              validation_steps=validation_steps)"
   ]
  },
  {
   "cell_type": "markdown",
   "metadata": {
    "colab_type": "text",
    "id": "R0Q31NEeqRwe"
   },
   "source": [
    "### 学習経過のグラフ化"
   ]
  },
  {
   "cell_type": "markdown",
   "metadata": {
    "colab_type": "text",
    "id": "hO4SW6QSqRwf"
   },
   "source": [
    "エポックごとの損失と正解率をグラフ化します。\n",
    "先程のグラフとどの様に違うでしょうか？"
   ]
  },
  {
   "cell_type": "code",
   "execution_count": null,
   "metadata": {
    "colab": {
     "base_uri": "https://localhost:8080/",
     "height": 514
    },
    "colab_type": "code",
    "executionInfo": {
     "elapsed": 1257,
     "status": "ok",
     "timestamp": 1550644863979,
     "user": {
      "displayName": "Masatoshi Itagaki",
      "photoUrl": "https://lh3.googleusercontent.com/-SGDpXt5ReZs/AAAAAAAAAAI/AAAAAAAAAIE/63os4VeHmA8/s64/photo.jpg",
      "userId": "04462290006021813429"
     },
     "user_tz": -540
    },
    "id": "v4BeKjFOqRwg",
    "outputId": "88846f40-2f68-4c7d-e36c-8c62706102a2",
    "scrolled": false
   },
   "outputs": [],
   "source": [
    "import matplotlib.pyplot as plt\n",
    "%matplotlib inline\n",
    "\n",
    "acc = history.history['acc']\n",
    "val_acc = history.history['val_acc']\n",
    "loss = history.history['loss']\n",
    "val_loss = history.history['val_loss']\n",
    "\n",
    "epochs = range(len(acc))\n",
    "\n",
    "plt.plot(epochs, acc, label='Train Accuracy')\n",
    "plt.plot(epochs, val_acc, label='Validation Accuracy')\n",
    "plt.legend()\n",
    "plt.show()\n",
    "\n",
    "plt.plot(epochs, loss, label='Train Loss')\n",
    "plt.plot(epochs, val_loss, label='Validation Loss')\n",
    "plt.legend()\n",
    "plt.show()"
   ]
  },
  {
   "cell_type": "markdown",
   "metadata": {
    "colab_type": "text",
    "id": "Me8-RtGcUlP0"
   },
   "source": [
    "## パラメータ正則化の導入"
   ]
  },
  {
   "cell_type": "markdown",
   "metadata": {
    "colab_type": "text",
    "id": "U9eQk2BcU0Aj"
   },
   "source": [
    "### モデルの修正"
   ]
  },
  {
   "cell_type": "markdown",
   "metadata": {
    "colab_type": "text",
    "id": "ViNrWk-EU0Ak"
   },
   "source": [
    "最初のモデルにパラメータ正則化の導入をしてみましょう。"
   ]
  },
  {
   "cell_type": "code",
   "execution_count": null,
   "metadata": {
    "colab": {},
    "colab_type": "code",
    "id": "pt1F-L_WU0Am"
   },
   "outputs": [],
   "source": [
    "model = keras.models.Sequential()\n",
    "\n",
    "model.add(keras.layers.Conv2D(32, (3, 3), \n",
    "                    strides=(1, 1), \n",
    "                    kernel_regularizer=keras.regularizers.l1_l2(0.0005, 0.001),\n",
    "                    activation='relu', \n",
    "                    input_shape=(128, 128, 3)))\n",
    "model.add(keras.layers.MaxPooling2D((2, 2)))\n",
    "model.add(keras.layers.Conv2D(64, (3, 3), \n",
    "                    strides=(1, 1), \n",
    "                    kernel_regularizer=keras.regularizers.l1_l2(0.0005, 0.001),\n",
    "                    activation='relu'))\n",
    "model.add(keras.layers.MaxPooling2D((2, 2)))\n",
    "model.add(keras.layers.Conv2D(128, (3, 3), \n",
    "                    strides=(1, 1), \n",
    "                    kernel_regularizer=keras.regularizers.l1_l2(0.0005, 0.001),\n",
    "                    activation='relu'))\n",
    "model.add(keras.layers.MaxPooling2D((2, 2)))\n",
    "model.add(keras.layers.Flatten())\n",
    "model.add(keras.layers.Dense(128, \n",
    "                    kernel_regularizer=keras.regularizers.l1_l2(0.0005, 0.001),\n",
    "                    activation='relu'))\n",
    "model.add(keras.layers.Dense(2, activation='softmax'))"
   ]
  },
  {
   "cell_type": "markdown",
   "metadata": {
    "colab_type": "text",
    "id": "6Le9hYB3U0Aq"
   },
   "source": [
    "### モデル構造の表示"
   ]
  },
  {
   "cell_type": "code",
   "execution_count": null,
   "metadata": {
    "colab": {
     "base_uri": "https://localhost:8080/",
     "height": 495
    },
    "colab_type": "code",
    "executionInfo": {
     "elapsed": 681,
     "status": "ok",
     "timestamp": 1550644885243,
     "user": {
      "displayName": "Masatoshi Itagaki",
      "photoUrl": "https://lh3.googleusercontent.com/-SGDpXt5ReZs/AAAAAAAAAAI/AAAAAAAAAIE/63os4VeHmA8/s64/photo.jpg",
      "userId": "04462290006021813429"
     },
     "user_tz": -540
    },
    "id": "bmRjOR8NU0Aq",
    "outputId": "454c163c-7cc4-4371-a32d-97a8223f2074",
    "scrolled": true
   },
   "outputs": [],
   "source": [
    "model.summary()"
   ]
  },
  {
   "cell_type": "markdown",
   "metadata": {
    "colab_type": "text",
    "id": "ecvTMSTmU0Au"
   },
   "source": [
    "### モデルのコンパイル"
   ]
  },
  {
   "cell_type": "markdown",
   "metadata": {
    "colab_type": "text",
    "id": "zslfGAQHU0Ax"
   },
   "source": [
    "先ほどのモデルと同じ様にモデルをコンパイルします。"
   ]
  },
  {
   "cell_type": "code",
   "execution_count": null,
   "metadata": {
    "colab": {},
    "colab_type": "code",
    "id": "Vl9O3SmSU0Ay"
   },
   "outputs": [],
   "source": [
    "model.compile(loss='categorical_crossentropy', \n",
    "              optimizer='adam',\n",
    "              metrics=['acc'])"
   ]
  },
  {
   "cell_type": "markdown",
   "metadata": {
    "colab_type": "text",
    "id": "Sk_N9r8bU0A1"
   },
   "source": [
    "### モデルの訓練"
   ]
  },
  {
   "cell_type": "markdown",
   "metadata": {
    "colab_type": "text",
    "id": "yL-txeEOU0A2"
   },
   "source": [
    "30エポック、モデルの訓練を行います。"
   ]
  },
  {
   "cell_type": "code",
   "execution_count": null,
   "metadata": {
    "colab": {
     "base_uri": "https://localhost:8080/",
     "height": 1735
    },
    "colab_type": "code",
    "executionInfo": {
     "elapsed": 946799,
     "status": "ok",
     "timestamp": 1550645866160,
     "user": {
      "displayName": "Masatoshi Itagaki",
      "photoUrl": "https://lh3.googleusercontent.com/-SGDpXt5ReZs/AAAAAAAAAAI/AAAAAAAAAIE/63os4VeHmA8/s64/photo.jpg",
      "userId": "04462290006021813429"
     },
     "user_tz": -540
    },
    "id": "ot7LoiZlU0A4",
    "outputId": "67c623f6-9d71-4ed8-99b5-5acc84f0c128"
   },
   "outputs": [],
   "source": [
    "history = model.fit_generator(train_generator,\n",
    "                              epochs=30,\n",
    "                              steps_per_epoch=steps_per_epoch,\n",
    "                              validation_data=validation_generator,\n",
    "                              validation_steps=validation_steps)"
   ]
  },
  {
   "cell_type": "markdown",
   "metadata": {
    "colab_type": "text",
    "id": "f4TyNYQUU0A-"
   },
   "source": [
    "### 学習経過のグラフ化"
   ]
  },
  {
   "cell_type": "markdown",
   "metadata": {
    "colab_type": "text",
    "id": "Ec9mEbE_U0BA"
   },
   "source": [
    "エポックごとの損失と正解率をグラフ化します。\n",
    "先程のグラフとどの様に違うでしょうか？"
   ]
  },
  {
   "cell_type": "code",
   "execution_count": null,
   "metadata": {
    "colab": {
     "base_uri": "https://localhost:8080/",
     "height": 514
    },
    "colab_type": "code",
    "executionInfo": {
     "elapsed": 1342,
     "status": "ok",
     "timestamp": 1550645985940,
     "user": {
      "displayName": "Masatoshi Itagaki",
      "photoUrl": "https://lh3.googleusercontent.com/-SGDpXt5ReZs/AAAAAAAAAAI/AAAAAAAAAIE/63os4VeHmA8/s64/photo.jpg",
      "userId": "04462290006021813429"
     },
     "user_tz": -540
    },
    "id": "O7LBzFGdU0BB",
    "outputId": "9fa5c3dc-431d-4a26-b952-b0106b2bf6f6",
    "scrolled": false
   },
   "outputs": [],
   "source": [
    "import matplotlib.pyplot as plt\n",
    "%matplotlib inline\n",
    "\n",
    "acc = history.history['acc']\n",
    "val_acc = history.history['val_acc']\n",
    "loss = history.history['loss']\n",
    "val_loss = history.history['val_loss']\n",
    "\n",
    "epochs = range(len(acc))\n",
    "\n",
    "plt.plot(epochs, acc, label='Train Accuracy')\n",
    "plt.plot(epochs, val_acc, label='Validation Accuracy')\n",
    "plt.legend()\n",
    "plt.show()\n",
    "\n",
    "plt.plot(epochs, loss, label='Train Loss')\n",
    "plt.plot(epochs, val_loss, label='Validation Loss')\n",
    "plt.legend()\n",
    "plt.show()"
   ]
  },
  {
   "cell_type": "markdown",
   "metadata": {
    "colab_type": "text",
    "id": "G1HpYmCVMki3"
   },
   "source": [
    "## モデルによる予測"
   ]
  },
  {
   "cell_type": "markdown",
   "metadata": {
    "colab_type": "text",
    "id": "ewrlxxAZMki4"
   },
   "source": [
    "下記のプログラムで、学習したモデルを使ってテスト用データの分類（予測）を行うことができます。  \n",
    "予測結果がどのような形式なのかを確認してください。"
   ]
  },
  {
   "cell_type": "code",
   "execution_count": null,
   "metadata": {
    "colab": {
     "base_uri": "https://localhost:8080/",
     "height": 3835
    },
    "colab_type": "code",
    "executionInfo": {
     "elapsed": 9917,
     "status": "ok",
     "timestamp": 1550646012007,
     "user": {
      "displayName": "Masatoshi Itagaki",
      "photoUrl": "https://lh3.googleusercontent.com/-SGDpXt5ReZs/AAAAAAAAAAI/AAAAAAAAAIE/63os4VeHmA8/s64/photo.jpg",
      "userId": "04462290006021813429"
     },
     "user_tz": -540
    },
    "id": "Jn9HHXysMki5",
    "outputId": "aa9ccfe3-90e5-4e6a-8621-af19cc52c13d"
   },
   "outputs": [],
   "source": [
    "predictions = model.predict_generator(test_generator, steps=test_steps)\n",
    "\n",
    "print(predictions)"
   ]
  },
  {
   "cell_type": "markdown",
   "metadata": {
    "colab_type": "text",
    "id": "og6H4zCTMki8"
   },
   "source": [
    "## モデルの予測結果を見てみる"
   ]
  },
  {
   "cell_type": "markdown",
   "metadata": {
    "colab_type": "text",
    "id": "z8mw0aq7Mki-"
   },
   "source": [
    "次のプログラムを実行すると、テスト用データの１バッチ分についてモデルの予測値と正解を画像つきで確認できます。  \n",
    "どのような結果になったかを確認してください。"
   ]
  },
  {
   "cell_type": "code",
   "execution_count": null,
   "metadata": {
    "colab": {
     "base_uri": "https://localhost:8080/",
     "height": 9268,
     "output_embedded_package_id": "1nPe6HLvj0qx3x0ea0iJUHF6bY94Qr2wF"
    },
    "colab_type": "code",
    "executionInfo": {
     "elapsed": 11551,
     "status": "ok",
     "timestamp": 1550646031501,
     "user": {
      "displayName": "Masatoshi Itagaki",
      "photoUrl": "https://lh3.googleusercontent.com/-SGDpXt5ReZs/AAAAAAAAAAI/AAAAAAAAAIE/63os4VeHmA8/s64/photo.jpg",
      "userId": "04462290006021813429"
     },
     "user_tz": -540
    },
    "id": "I3gm5I2LMki_",
    "outputId": "29c913ad-4a5d-4ab6-93df-fc888f4fdcbf"
   },
   "outputs": [],
   "source": [
    "import numpy as np\n",
    "import matplotlib.pyplot as plt\n",
    "%matplotlib inline\n",
    "\n",
    "code_to_class = {0: 'ラーメン', 1: 'うどん'}\n",
    "\n",
    "x, y = next(test_generator)\n",
    "y_true = np.argmax(y, axis=1)\n",
    "y_prob = model.predict_on_batch(x)\n",
    "y_pred = np.argmax(y_prob, axis=1)\n",
    "\n",
    "for i in range(len(x)):\n",
    "    plt.imshow(x[i])\n",
    "    plt.show()\n",
    "    print('推定：', code_to_class[y_pred[i]])\n",
    "    print('正解：', code_to_class[y_true[i]])"
   ]
  },
  {
   "cell_type": "code",
   "execution_count": null,
   "metadata": {
    "colab": {},
    "colab_type": "code",
    "id": "xtLMWNwVMkjC"
   },
   "outputs": [],
   "source": []
  }
 ],
 "metadata": {
  "accelerator": "GPU",
  "colab": {
   "collapsed_sections": [],
   "name": "cnn_exercise_02.ipynb",
   "provenance": [
    {
     "file_id": "https://github.com/masa-ita/keras-cnn-hands-on/blob/master/cnn_exercise_01.ipynb",
     "timestamp": 1548825560464
    }
   ],
   "version": "0.3.2"
  },
  "kernelspec": {
   "display_name": "Python 3",
   "language": "python",
   "name": "python3"
  },
  "language_info": {
   "codemirror_mode": {
    "name": "ipython",
    "version": 3
   },
   "file_extension": ".py",
   "mimetype": "text/x-python",
   "name": "python",
   "nbconvert_exporter": "python",
   "pygments_lexer": "ipython3",
   "version": "3.6.5"
  },
  "varInspector": {
   "cols": {
    "lenName": 16,
    "lenType": 16,
    "lenVar": 40
   },
   "kernels_config": {
    "python": {
     "delete_cmd_postfix": "",
     "delete_cmd_prefix": "del ",
     "library": "var_list.py",
     "varRefreshCmd": "print(var_dic_list())"
    },
    "r": {
     "delete_cmd_postfix": ") ",
     "delete_cmd_prefix": "rm(",
     "library": "var_list.r",
     "varRefreshCmd": "cat(var_dic_list()) "
    }
   },
   "types_to_exclude": [
    "module",
    "function",
    "builtin_function_or_method",
    "instance",
    "_Feature"
   ],
   "window_display": false
  }
 },
 "nbformat": 4,
 "nbformat_minor": 1
}

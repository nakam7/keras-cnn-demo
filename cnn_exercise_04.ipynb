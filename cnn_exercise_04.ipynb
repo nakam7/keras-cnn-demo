{
 "cells": [
  {
   "cell_type": "markdown",
   "metadata": {
    "colab_type": "text",
    "id": "8Lx0-D-yMkhL"
   },
   "source": [
    "# Kerasを用いた画像分類入門（４）"
   ]
  },
  {
   "cell_type": "markdown",
   "metadata": {
    "colab_type": "text",
    "id": "33A7rPAMTyy4"
   },
   "source": [
    "##  転移学習とファインチューニング"
   ]
  },
  {
   "cell_type": "markdown",
   "metadata": {
    "colab_type": "text",
    "id": "TMBFBPcrMkhO"
   },
   "source": [
    "## Google Colab用の設定"
   ]
  },
  {
   "cell_type": "markdown",
   "metadata": {
    "colab_type": "text",
    "id": "4fhUwifgMkhR"
   },
   "source": [
    "Google Colaboratory で実行する場合には下記のセルを実行してください。"
   ]
  },
  {
   "cell_type": "code",
   "execution_count": null,
   "metadata": {
    "colab": {
     "base_uri": "https://localhost:8080/",
     "height": 35
    },
    "colab_type": "code",
    "executionInfo": {
     "elapsed": 567,
     "status": "ok",
     "timestamp": 1548943037851,
     "user": {
      "displayName": "Masatoshi Itagaki",
      "photoUrl": "https://lh3.googleusercontent.com/-SGDpXt5ReZs/AAAAAAAAAAI/AAAAAAAAAIE/63os4VeHmA8/s64/photo.jpg",
      "userId": "04462290006021813429"
     },
     "user_tz": -540
    },
    "id": "-EoFxRtmMkhU",
    "outputId": "7dbfa78f-e270-4ca7-f8f1-9a5d6808cdb4"
   },
   "outputs": [],
   "source": [
    "from google.colab import drive\n",
    "drive.mount('/content/gdrive')"
   ]
  },
  {
   "cell_type": "code",
   "execution_count": null,
   "metadata": {
    "colab": {
     "base_uri": "https://localhost:8080/",
     "height": 52
    },
    "colab_type": "code",
    "executionInfo": {
     "elapsed": 8826,
     "status": "ok",
     "timestamp": 1548938837855,
     "user": {
      "displayName": "Masatoshi Itagaki",
      "photoUrl": "https://lh3.googleusercontent.com/-SGDpXt5ReZs/AAAAAAAAAAI/AAAAAAAAAIE/63os4VeHmA8/s64/photo.jpg",
      "userId": "04462290006021813429"
     },
     "user_tz": -540
    },
    "id": "3UTLvK2uMkhb",
    "outputId": "ef890041-0b51-442e-add9-a1fcb509c11d"
   },
   "outputs": [],
   "source": [
    "!unzip /content/gdrive/My\\ Drive/GD_share01/noodles.zip -d /content"
   ]
  },
  {
   "cell_type": "markdown",
   "metadata": {
    "colab_type": "text",
    "id": "tyJF4fK6Mkhg"
   },
   "source": [
    "## ライブラリのインポート"
   ]
  },
  {
   "cell_type": "code",
   "execution_count": null,
   "metadata": {
    "colab": {},
    "colab_type": "code",
    "id": "6W-ZG_SrMkhi"
   },
   "outputs": [],
   "source": [
    "import tensorflow.keras as keras"
   ]
  },
  {
   "cell_type": "markdown",
   "metadata": {
    "colab_type": "text",
    "id": "3PMIUnSRMkho"
   },
   "source": [
    "## 画像データの準備"
   ]
  },
  {
   "cell_type": "markdown",
   "metadata": {
    "colab_type": "text",
    "id": "QkMMA05DMkhu"
   },
   "source": [
    " 解凍した教師画像からデータを読み込むImageDataGeneratorを作成します。  \n",
    " 下記の訓練用のImageDataGeneratorの初期化パラメータを設定してください。"
   ]
  },
  {
   "cell_type": "code",
   "execution_count": null,
   "metadata": {
    "colab": {
     "base_uri": "https://localhost:8080/",
     "height": 69
    },
    "colab_type": "code",
    "executionInfo": {
     "elapsed": 605,
     "status": "ok",
     "timestamp": 1548943047673,
     "user": {
      "displayName": "Masatoshi Itagaki",
      "photoUrl": "https://lh3.googleusercontent.com/-SGDpXt5ReZs/AAAAAAAAAAI/AAAAAAAAAIE/63os4VeHmA8/s64/photo.jpg",
      "userId": "04462290006021813429"
     },
     "user_tz": -540
    },
    "id": "xNzsFKSzMkhy",
    "outputId": "48be34d7-b6ef-4d93-9b09-1f9541d4ae1f"
   },
   "outputs": [],
   "source": [
    "train_dir = './noodles/train/'\n",
    "validation_dir = './noodles/validation/'\n",
    "test_dir = './noodles/test/'\n",
    "image_size = (128, 128)\n",
    "batch_size = 32\n",
    "steps_per_epoch = 300 // batch_size\n",
    "validation_steps = 100 // batch_size\n",
    "test_steps = 100 // batch_size\n",
    "\n",
    "augmented_data_generator = keras.preprocessing.image.ImageDataGenerator(rescale=1/255.0,\n",
    "                                                                       rotation_range=40.0,\n",
    "                                                                       width_shift_range=0.1,\n",
    "                                                                       height_shift_range=0.1,\n",
    "                                                                       brightness_range=[0.8, 1.0],\n",
    "                                                                       shear_range=20.0,\n",
    "                                                                       zoom_range=0.1,\n",
    "                                                                       horizontal_flip=True,\n",
    "                                                                       vertical_flip=True)\n",
    "\n",
    "rescaled_data_generator = keras.preprocessing.image.ImageDataGenerator(rescale=1/255.0)\n",
    "\n",
    "train_generator = augmented_data_generator.flow_from_directory(train_dir,\n",
    "                                                           target_size=image_size, \n",
    "                                                           batch_size=batch_size)\n",
    "validation_generator = rescaled_data_generator.flow_from_directory(validation_dir,\n",
    "                                                                target_size=image_size, \n",
    "                                                                batch_size=batch_size)\n",
    "test_generator = rescaled_data_generator.flow_from_directory(test_dir,\n",
    "                                                                target_size=image_size, \n",
    "                                                                batch_size=batch_size)"
   ]
  },
  {
   "cell_type": "markdown",
   "metadata": {
    "colab_type": "text",
    "id": "JrnVSkAgUFZW"
   },
   "source": [
    "## 学習済みVGG16を使った転移学習"
   ]
  },
  {
   "cell_type": "markdown",
   "metadata": {
    "colab_type": "text",
    "id": "oKfq7VNUMkh2"
   },
   "source": [
    "###  モデルの構築"
   ]
  },
  {
   "cell_type": "markdown",
   "metadata": {
    "colab_type": "text",
    "id": "BLWy-aTTMkh3"
   },
   "source": [
    "学習済みのVGG16ネットワークをロードします。"
   ]
  },
  {
   "cell_type": "code",
   "execution_count": null,
   "metadata": {
    "colab": {},
    "colab_type": "code",
    "id": "FQKBcqx9Mkh7"
   },
   "outputs": [],
   "source": [
    "conv_layers = keras.applications.vgg16.VGG16(include_top=False, \n",
    "                                             weights='imagenet', \n",
    "                                             input_shape=(128, 128, 3))"
   ]
  },
  {
   "cell_type": "markdown",
   "metadata": {
    "colab_type": "text",
    "id": "yfDyzp219B7m"
   },
   "source": [
    "重みを凍結（学習できないように設定）します。"
   ]
  },
  {
   "cell_type": "code",
   "execution_count": null,
   "metadata": {
    "colab": {},
    "colab_type": "code",
    "id": "HFMOADDo9Mxc"
   },
   "outputs": [],
   "source": [
    "conv_layers.trainable = False"
   ]
  },
  {
   "cell_type": "markdown",
   "metadata": {
    "colab_type": "text",
    "id": "FE5thC959Sry"
   },
   "source": [
    "この学習済みネットワークを組み込んだモデルを作成します。"
   ]
  },
  {
   "cell_type": "code",
   "execution_count": null,
   "metadata": {
    "colab": {
     "base_uri": "https://localhost:8080/",
     "height": 795
    },
    "colab_type": "code",
    "executionInfo": {
     "elapsed": 410,
     "status": "ok",
     "timestamp": 1548943062178,
     "user": {
      "displayName": "Masatoshi Itagaki",
      "photoUrl": "https://lh3.googleusercontent.com/-SGDpXt5ReZs/AAAAAAAAAAI/AAAAAAAAAIE/63os4VeHmA8/s64/photo.jpg",
      "userId": "04462290006021813429"
     },
     "user_tz": -540
    },
    "id": "6ObInVVc9p2E",
    "outputId": "16868879-c0be-4f90-f9a6-baa897d79a42"
   },
   "outputs": [],
   "source": [
    "conv_layers.summary()"
   ]
  },
  {
   "cell_type": "code",
   "execution_count": null,
   "metadata": {
    "colab": {},
    "colab_type": "code",
    "id": "pu6Zei3n9b0J"
   },
   "outputs": [],
   "source": [
    "model = keras.models.Sequential()\n",
    "\n",
    "model.add(conv_layers)\n",
    "model.add(keras.layers.Flatten())\n",
    "model.add(keras.layers.Dropout(0.4))\n",
    "model.add(keras.layers.Dense(2, activation='softmax'))"
   ]
  },
  {
   "cell_type": "markdown",
   "metadata": {
    "colab_type": "text",
    "id": "o_e3o5t1MkiB"
   },
   "source": [
    "### モデル構造の表示"
   ]
  },
  {
   "cell_type": "code",
   "execution_count": null,
   "metadata": {
    "colab": {
     "base_uri": "https://localhost:8080/",
     "height": 276
    },
    "colab_type": "code",
    "executionInfo": {
     "elapsed": 402,
     "status": "ok",
     "timestamp": 1548943092564,
     "user": {
      "displayName": "Masatoshi Itagaki",
      "photoUrl": "https://lh3.googleusercontent.com/-SGDpXt5ReZs/AAAAAAAAAAI/AAAAAAAAAIE/63os4VeHmA8/s64/photo.jpg",
      "userId": "04462290006021813429"
     },
     "user_tz": -540
    },
    "id": "U1BB67g4MkiE",
    "outputId": "c7368ae1-15bc-4443-bbf0-9c3457a148c0",
    "scrolled": true
   },
   "outputs": [],
   "source": [
    "model.summary()"
   ]
  },
  {
   "cell_type": "markdown",
   "metadata": {
    "colab_type": "text",
    "id": "VFPse_SxMkiH"
   },
   "source": [
    "### モデルのコンパイル"
   ]
  },
  {
   "cell_type": "markdown",
   "metadata": {
    "colab_type": "text",
    "id": "hwB2WqYkMkiJ"
   },
   "source": [
    "モデルをコンパイルします。"
   ]
  },
  {
   "cell_type": "code",
   "execution_count": null,
   "metadata": {
    "colab": {},
    "colab_type": "code",
    "id": "BixHmvHDMkiM"
   },
   "outputs": [],
   "source": [
    "model.compile(loss='categorical_crossentropy', \n",
    "              optimizer='adam',\n",
    "              metrics=['acc'])"
   ]
  },
  {
   "cell_type": "markdown",
   "metadata": {
    "colab_type": "text",
    "id": "-DQWQh12MkiW"
   },
   "source": [
    "### モデルの訓練"
   ]
  },
  {
   "cell_type": "markdown",
   "metadata": {
    "colab_type": "text",
    "id": "i78Q9x4yMkiY"
   },
   "source": [
    "ここでは30エポック、モデルの訓練を行います。"
   ]
  },
  {
   "cell_type": "code",
   "execution_count": null,
   "metadata": {
    "colab": {
     "base_uri": "https://localhost:8080/",
     "height": 1108
    },
    "colab_type": "code",
    "executionInfo": {
     "elapsed": 557295,
     "status": "ok",
     "timestamp": 1548943660009,
     "user": {
      "displayName": "Masatoshi Itagaki",
      "photoUrl": "https://lh3.googleusercontent.com/-SGDpXt5ReZs/AAAAAAAAAAI/AAAAAAAAAIE/63os4VeHmA8/s64/photo.jpg",
      "userId": "04462290006021813429"
     },
     "user_tz": -540
    },
    "id": "CY4SvCB0MkiZ",
    "outputId": "e124fffd-47d7-4088-b291-8f462a8c6b09"
   },
   "outputs": [],
   "source": [
    "history = model.fit_generator(train_generator,\n",
    "                              epochs=30,\n",
    "                              steps_per_epoch=steps_per_epoch,\n",
    "                              validation_data=validation_generator,\n",
    "                              validation_steps=validation_steps)"
   ]
  },
  {
   "cell_type": "markdown",
   "metadata": {
    "colab_type": "text",
    "id": "xNJA9kA0Mkid"
   },
   "source": [
    "### 学習経過のグラフ化"
   ]
  },
  {
   "cell_type": "markdown",
   "metadata": {
    "colab_type": "text",
    "id": "_dgMQB5cMkie"
   },
   "source": [
    "下記のプログラムで、エポックごとの損失と正解率をグラフ化できます。  \n",
    "グラフから何が読み取れるでしょうか？"
   ]
  },
  {
   "cell_type": "code",
   "execution_count": null,
   "metadata": {
    "colab": {
     "base_uri": "https://localhost:8080/",
     "height": 515
    },
    "colab_type": "code",
    "executionInfo": {
     "elapsed": 865,
     "status": "ok",
     "timestamp": 1548943667071,
     "user": {
      "displayName": "Masatoshi Itagaki",
      "photoUrl": "https://lh3.googleusercontent.com/-SGDpXt5ReZs/AAAAAAAAAAI/AAAAAAAAAIE/63os4VeHmA8/s64/photo.jpg",
      "userId": "04462290006021813429"
     },
     "user_tz": -540
    },
    "id": "FxsAUbyhMkif",
    "outputId": "6b34754d-8d4d-49b1-b9fc-cacb4133d41e",
    "scrolled": false
   },
   "outputs": [],
   "source": [
    "import matplotlib.pyplot as plt\n",
    "%matplotlib inline\n",
    "\n",
    "acc = history.history['acc']\n",
    "val_acc = history.history['val_acc']\n",
    "loss = history.history['loss']\n",
    "val_loss = history.history['val_loss']\n",
    "\n",
    "epochs = range(len(acc))\n",
    "\n",
    "plt.plot(epochs, acc, label='Train Accuracy')\n",
    "plt.plot(epochs, val_acc, label='Validation Accuracy')\n",
    "plt.legend()\n",
    "plt.show()\n",
    "\n",
    "plt.plot(epochs, loss, label='Train Loss')\n",
    "plt.plot(epochs, val_loss, label='Validation Loss')\n",
    "plt.legend()\n",
    "plt.show()"
   ]
  },
  {
   "cell_type": "markdown",
   "metadata": {
    "colab_type": "text",
    "id": "InXwMotaCHD9"
   },
   "source": [
    "### ファインチューニング"
   ]
  },
  {
   "cell_type": "markdown",
   "metadata": {
    "colab_type": "text",
    "id": "NZTl3Ai4CMcq"
   },
   "source": [
    "ファインチューニングを行うために凍結したconv_layersのblock5の層の凍結を解除します。"
   ]
  },
  {
   "cell_type": "code",
   "execution_count": null,
   "metadata": {
    "colab": {
     "base_uri": "https://localhost:8080/",
     "height": 314
    },
    "colab_type": "code",
    "executionInfo": {
     "elapsed": 422,
     "status": "ok",
     "timestamp": 1548943677275,
     "user": {
      "displayName": "Masatoshi Itagaki",
      "photoUrl": "https://lh3.googleusercontent.com/-SGDpXt5ReZs/AAAAAAAAAAI/AAAAAAAAAIE/63os4VeHmA8/s64/photo.jpg",
      "userId": "04462290006021813429"
     },
     "user_tz": -540
    },
    "id": "yVMQlpXNChN4",
    "outputId": "3f6159f5-2b75-4f77-c6aa-28683dad9b5c"
   },
   "outputs": [],
   "source": [
    "conv_layers.trainable = True\n",
    "\n",
    "for layer in conv_layers.layers:\n",
    "    if layer.name in  ['block5_conv1', 'block5_conv2', 'block5_conv3']:\n",
    "        layer.trainable = True\n",
    "    else:\n",
    "        layer.trainable = False\n",
    "    \n",
    "model.summary()"
   ]
  },
  {
   "cell_type": "markdown",
   "metadata": {
    "colab_type": "text",
    "id": "z7xqQe4vG0P0"
   },
   "source": [
    "学習率を下げてコンパイルし直します。"
   ]
  },
  {
   "cell_type": "code",
   "execution_count": null,
   "metadata": {
    "colab": {},
    "colab_type": "code",
    "id": "oji73A5bGzNE"
   },
   "outputs": [],
   "source": [
    "model.compile(loss='categorical_crossentropy', \n",
    "              optimizer=keras.optimizers.Adam(lr=0.0001),\n",
    "              metrics=['acc'])"
   ]
  },
  {
   "cell_type": "markdown",
   "metadata": {
    "colab_type": "text",
    "id": "3Nsjp7qwHW4Y"
   },
   "source": [
    "### モデルの訓練"
   ]
  },
  {
   "cell_type": "markdown",
   "metadata": {
    "colab_type": "text",
    "id": "m94nKsySHW4Z"
   },
   "source": [
    "ここでは30エポック、モデルの訓練を行います。"
   ]
  },
  {
   "cell_type": "code",
   "execution_count": null,
   "metadata": {
    "colab": {
     "base_uri": "https://localhost:8080/",
     "height": 1799
    },
    "colab_type": "code",
    "executionInfo": {
     "elapsed": 918805,
     "status": "ok",
     "timestamp": 1548944595699,
     "user": {
      "displayName": "Masatoshi Itagaki",
      "photoUrl": "https://lh3.googleusercontent.com/-SGDpXt5ReZs/AAAAAAAAAAI/AAAAAAAAAIE/63os4VeHmA8/s64/photo.jpg",
      "userId": "04462290006021813429"
     },
     "user_tz": -540
    },
    "id": "SUGFZdgTHW4Z",
    "outputId": "cd4bc0ce-4e3f-43c3-9509-61f9f4fa7b3c"
   },
   "outputs": [],
   "source": [
    "history = model.fit_generator(train_generator,\n",
    "                              epochs=50,\n",
    "                              steps_per_epoch=steps_per_epoch,\n",
    "                              validation_data=validation_generator,\n",
    "                              validation_steps=validation_steps)"
   ]
  },
  {
   "cell_type": "markdown",
   "metadata": {
    "colab_type": "text",
    "id": "-9fhYgzVHW4k"
   },
   "source": [
    "### 学習経過のグラフ化"
   ]
  },
  {
   "cell_type": "markdown",
   "metadata": {
    "colab_type": "text",
    "id": "PktRTvCkHW4l"
   },
   "source": [
    "下記のプログラムで、エポックごとの損失と正解率をグラフ化できます。  \n",
    "グラフから何が読み取れるでしょうか？"
   ]
  },
  {
   "cell_type": "code",
   "execution_count": null,
   "metadata": {
    "colab": {
     "base_uri": "https://localhost:8080/",
     "height": 514
    },
    "colab_type": "code",
    "executionInfo": {
     "elapsed": 1298,
     "status": "ok",
     "timestamp": 1548947159451,
     "user": {
      "displayName": "Masatoshi Itagaki",
      "photoUrl": "https://lh3.googleusercontent.com/-SGDpXt5ReZs/AAAAAAAAAAI/AAAAAAAAAIE/63os4VeHmA8/s64/photo.jpg",
      "userId": "04462290006021813429"
     },
     "user_tz": -540
    },
    "id": "hhb64zIPHW4m",
    "outputId": "5a6a9cea-f007-45c4-d00b-062606b2956a",
    "scrolled": false
   },
   "outputs": [],
   "source": [
    "import matplotlib.pyplot as plt\n",
    "%matplotlib inline\n",
    "\n",
    "acc = history.history['acc']\n",
    "val_acc = history.history['val_acc']\n",
    "loss = history.history['loss']\n",
    "val_loss = history.history['val_loss']\n",
    "\n",
    "epochs = range(len(acc))\n",
    "\n",
    "plt.plot(epochs, acc, label='Train Accuracy')\n",
    "plt.plot(epochs, val_acc, label='Validation Accuracy')\n",
    "plt.legend()\n",
    "plt.show()\n",
    "\n",
    "plt.plot(epochs, loss, label='Train Loss')\n",
    "plt.plot(epochs, val_loss, label='Validation Loss')\n",
    "plt.legend()\n",
    "plt.show()"
   ]
  },
  {
   "cell_type": "markdown",
   "metadata": {
    "colab_type": "text",
    "id": "MjL8gPXEMkii"
   },
   "source": [
    "### モデルの評価"
   ]
  },
  {
   "cell_type": "code",
   "execution_count": null,
   "metadata": {
    "colab": {
     "base_uri": "https://localhost:8080/",
     "height": 89
    },
    "colab_type": "code",
    "executionInfo": {
     "elapsed": 4739,
     "status": "ok",
     "timestamp": 1548947169850,
     "user": {
      "displayName": "Masatoshi Itagaki",
      "photoUrl": "https://lh3.googleusercontent.com/-SGDpXt5ReZs/AAAAAAAAAAI/AAAAAAAAAIE/63os4VeHmA8/s64/photo.jpg",
      "userId": "04462290006021813429"
     },
     "user_tz": -540
    },
    "id": "-UeYu0XvMkik",
    "outputId": "9194c845-4063-43aa-b9f9-6eba36b32326"
   },
   "outputs": [],
   "source": [
    "evaluation = model.evaluate_generator(test_generator, steps=test_steps)\n",
    "print(evaluation)"
   ]
  },
  {
   "cell_type": "markdown",
   "metadata": {
    "colab_type": "text",
    "id": "S0PS2DEtVqZw"
   },
   "source": [
    "最も性能の良かったモデルを読み込みます。"
   ]
  },
  {
   "cell_type": "markdown",
   "metadata": {
    "colab_type": "text",
    "id": "G1HpYmCVMki3"
   },
   "source": [
    "## モデルによる予測"
   ]
  },
  {
   "cell_type": "markdown",
   "metadata": {
    "colab_type": "text",
    "id": "ewrlxxAZMki4"
   },
   "source": [
    "下記のプログラムで、学習したモデルを使ってテスト用データの分類（予測）を行うことができます。  \n",
    "予測結果がどのような形式なのかを確認してください。"
   ]
  },
  {
   "cell_type": "code",
   "execution_count": null,
   "metadata": {
    "colab": {
     "base_uri": "https://localhost:8080/",
     "height": 1730
    },
    "colab_type": "code",
    "executionInfo": {
     "elapsed": 4735,
     "status": "ok",
     "timestamp": 1548947181287,
     "user": {
      "displayName": "Masatoshi Itagaki",
      "photoUrl": "https://lh3.googleusercontent.com/-SGDpXt5ReZs/AAAAAAAAAAI/AAAAAAAAAIE/63os4VeHmA8/s64/photo.jpg",
      "userId": "04462290006021813429"
     },
     "user_tz": -540
    },
    "id": "Jn9HHXysMki5",
    "outputId": "79e197ab-50d2-43f0-9207-661beb2de46a"
   },
   "outputs": [],
   "source": [
    "predictions = model.predict_generator(test_generator, steps=test_steps)\n",
    "\n",
    "print(predictions)"
   ]
  },
  {
   "cell_type": "markdown",
   "metadata": {
    "colab_type": "text",
    "id": "og6H4zCTMki8"
   },
   "source": [
    "## モデルの予測結果を見てみる"
   ]
  },
  {
   "cell_type": "markdown",
   "metadata": {
    "colab_type": "text",
    "id": "z8mw0aq7Mki-"
   },
   "source": [
    "次のプログラムを実行すると、テスト用データの１バッチ分についてモデルの予測値と正解を画像つきで確認できます。  \n",
    "どのような結果になったかを確認してください。"
   ]
  },
  {
   "cell_type": "code",
   "execution_count": null,
   "metadata": {
    "colab": {
     "base_uri": "https://localhost:8080/",
     "height": 9206,
     "output_embedded_package_id": "16brJPfvnm44iENi4PZNEmPOD8ppApBSN"
    },
    "colab_type": "code",
    "executionInfo": {
     "elapsed": 10490,
     "status": "ok",
     "timestamp": 1548947197803,
     "user": {
      "displayName": "Masatoshi Itagaki",
      "photoUrl": "https://lh3.googleusercontent.com/-SGDpXt5ReZs/AAAAAAAAAAI/AAAAAAAAAIE/63os4VeHmA8/s64/photo.jpg",
      "userId": "04462290006021813429"
     },
     "user_tz": -540
    },
    "id": "I3gm5I2LMki_",
    "outputId": "afa8afa2-d678-4b84-b676-b994b7afe09c"
   },
   "outputs": [],
   "source": [
    "import numpy as np\n",
    "import matplotlib.pyplot as plt\n",
    "%matplotlib inline\n",
    "\n",
    "code_to_class = {0: 'ラーメン', 1: 'うどん'}\n",
    "\n",
    "x, y = next(test_generator)\n",
    "y_true = np.argmax(y, axis=1)\n",
    "y_prob = model.predict_on_batch(x)\n",
    "y_pred = np.argmax(y_prob, axis=1)\n",
    "\n",
    "for i in range(len(x)):\n",
    "    plt.imshow(x[i])\n",
    "    plt.show()\n",
    "    print('推定： {}({:.5f})'.format(code_to_class[y_pred[i]], y_prob[i, y_pred[i]]))\n",
    "    print('正解：', code_to_class[y_true[i]])"
   ]
  },
  {
   "cell_type": "code",
   "execution_count": null,
   "metadata": {
    "colab": {},
    "colab_type": "code",
    "id": "xtLMWNwVMkjC"
   },
   "outputs": [],
   "source": []
  }
 ],
 "metadata": {
  "accelerator": "GPU",
  "colab": {
   "collapsed_sections": [],
   "name": "cnn_exercise_04_do_run.ipynb",
   "provenance": [
    {
     "file_id": "1vXZZFgRmyC9pCOg91gVVhoNeopuC8TVK",
     "timestamp": 1548942996482
    },
    {
     "file_id": "1ZUC92sgKWsavyzDm4VYJS9SDHw8QwbRT",
     "timestamp": 1548938469063
    },
    {
     "file_id": "16e8EtlMJPRTbHE_1qEc41sqdEZgN86vQ",
     "timestamp": 1548935704755
    },
    {
     "file_id": "https://github.com/masa-ita/keras-cnn-hands-on/blob/master/cnn_exercise_01.ipynb",
     "timestamp": 1548825560464
    }
   ],
   "version": "0.3.2"
  },
  "kernelspec": {
   "display_name": "Python 3",
   "language": "python",
   "name": "python3"
  },
  "language_info": {
   "codemirror_mode": {
    "name": "ipython",
    "version": 3
   },
   "file_extension": ".py",
   "mimetype": "text/x-python",
   "name": "python",
   "nbconvert_exporter": "python",
   "pygments_lexer": "ipython3",
   "version": "3.6.5"
  },
  "varInspector": {
   "cols": {
    "lenName": 16,
    "lenType": 16,
    "lenVar": 40
   },
   "kernels_config": {
    "python": {
     "delete_cmd_postfix": "",
     "delete_cmd_prefix": "del ",
     "library": "var_list.py",
     "varRefreshCmd": "print(var_dic_list())"
    },
    "r": {
     "delete_cmd_postfix": ") ",
     "delete_cmd_prefix": "rm(",
     "library": "var_list.r",
     "varRefreshCmd": "cat(var_dic_list()) "
    }
   },
   "types_to_exclude": [
    "module",
    "function",
    "builtin_function_or_method",
    "instance",
    "_Feature"
   ],
   "window_display": false
  }
 },
 "nbformat": 4,
 "nbformat_minor": 1
}
